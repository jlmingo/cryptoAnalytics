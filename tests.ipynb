{
 "cells": [
  {
   "cell_type": "code",
   "execution_count": 2,
   "metadata": {},
   "outputs": [],
   "source": [
    "import requests\n",
    "import pandas as pd\n",
    "from functools import reduce\n",
    "\n",
    "\n",
    "# This function retrieves: Companies profile (Price,Beta,Volume Average, Market Capitalisation, \n",
    "# Last Dividend, 52 week range, stock price change, stock price change in percentage,\n",
    "# Company Name, Exchange, Description, Industry,Sector,CEO,Website and image).\n",
    "\n",
    "\n",
    "def getStocksDescription(resource):\n",
    "    url = \"https://api.financialmodelingprep.com/api/company/profile/\"\n",
    "    res = requests.get(url+resource+\"?datatype=json\")\n",
    "    return res.json()\n",
    "\n",
    "#This function retrieves historical daily stock prices for each company\n",
    "\n",
    "def getStocksQuote(resource):\n",
    "    url = \"https://api.financialmodelingprep.com/api/v3/historical-price-full/{}?serietype=line\".format(resource)\n",
    "    res = requests.get(url)\n",
    "    return res.json()\n",
    "\n",
    "\n"
   ]
  },
  {
   "cell_type": "code",
   "execution_count": 3,
   "metadata": {},
   "outputs": [],
   "source": [
    "#Selected tickers for retrieving data. Could be integrated into the function to dinamically retrieve companies.\n",
    "#In this version, these will be the only companies to be shown.\n",
    "\n",
    "selected_tickers = [\"AMZN\", \"BIDU\", \"AAPL\", \"BABA\",  \"FB\", \"TWTR\"]\n",
    "\n",
    "#Arranging DataFrame\n",
    "\n",
    "stocks_data = [getStocksDescription(e) for e in selected_tickers]\n",
    "stocks_data2 = [stocks_data[i][e] for i in range(len(stocks_data)) for e in selected_tickers if e in stocks_data[i]]\n",
    "df = pd.DataFrame(stocks_data2)\n",
    "\n",
    "#Dropping unnecessary columns:\n",
    "\n",
    "dropping = [\"Beta\", \"Changes\", \"ChangesPerc\", \"LastDiv\", \"Price\", \"Range\", \"VolAvg\", \"date_bs_filed\", \"date_cs_filed\", \"date_is_filed\",\"exchange\"]\n",
    "df = df.drop(dropping, axis=1)\n",
    "\n",
    "#Rearranging DataFrame\n",
    "\n",
    "df = df[['image', 'companyName', 'CEO', 'description', 'sector', 'website', 'MktCap']]\n",
    "df[\"MktCap_USDbn\"] = pd.to_numeric(df[\"MktCap\"]).map(lambda x: x/1000000000).map(lambda x: round(x, 1))\n",
    "df = df.drop(\"MktCap\", axis=1)\n",
    "#Exporting to .csv\n",
    "#df.to_csv(\"companies_description.csv\")\n",
    "\n"
   ]
  },
  {
   "cell_type": "code",
   "execution_count": 4,
   "metadata": {},
   "outputs": [],
   "source": [
    "\n",
    "stocks_data = [getStocksQuote(e) for e in selected_tickers]"
   ]
  },
  {
   "cell_type": "code",
   "execution_count": 10,
   "metadata": {},
   "outputs": [
    {
     "ename": "AttributeError",
     "evalue": "'DataFrame' object has no attribute 'Index'",
     "output_type": "error",
     "traceback": [
      "\u001b[0;31m----------------------------------------------------------------------\u001b[0m",
      "\u001b[0;31mAttributeError\u001b[0m                       Traceback (most recent call last)",
      "\u001b[0;32m<ipython-input-10-711a87bc3daf>\u001b[0m in \u001b[0;36m<module>\u001b[0;34m\u001b[0m\n\u001b[1;32m      5\u001b[0m \u001b[0mdfStocksConsolidated\u001b[0m\u001b[0;34m.\u001b[0m\u001b[0mcolumns\u001b[0m \u001b[0;34m=\u001b[0m \u001b[0mlist\u001b[0m\u001b[0;34m(\u001b[0m\u001b[0mdf\u001b[0m\u001b[0;34m[\u001b[0m\u001b[0;34m\"companyName\"\u001b[0m\u001b[0;34m]\u001b[0m\u001b[0;34m)\u001b[0m\u001b[0;34m\u001b[0m\u001b[0;34m\u001b[0m\u001b[0m\n\u001b[1;32m      6\u001b[0m \u001b[0;31m#df.to_csv(\"companies_stock_price.csv\")\u001b[0m\u001b[0;34m\u001b[0m\u001b[0;34m\u001b[0m\u001b[0;34m\u001b[0m\u001b[0m\n\u001b[0;32m----> 7\u001b[0;31m \u001b[0mdfStocksConsolidated\u001b[0m\u001b[0;34m.\u001b[0m\u001b[0mIndex\u001b[0m\u001b[0;34m\u001b[0m\u001b[0;34m\u001b[0m\u001b[0m\n\u001b[0m",
      "\u001b[0;32m/usr/lib/python3/dist-packages/pandas/core/generic.py\u001b[0m in \u001b[0;36m__getattr__\u001b[0;34m(self, name)\u001b[0m\n\u001b[1;32m   3612\u001b[0m             \u001b[0;32mif\u001b[0m \u001b[0mname\u001b[0m \u001b[0;32min\u001b[0m \u001b[0mself\u001b[0m\u001b[0;34m.\u001b[0m\u001b[0m_info_axis\u001b[0m\u001b[0;34m:\u001b[0m\u001b[0;34m\u001b[0m\u001b[0;34m\u001b[0m\u001b[0m\n\u001b[1;32m   3613\u001b[0m                 \u001b[0;32mreturn\u001b[0m \u001b[0mself\u001b[0m\u001b[0;34m[\u001b[0m\u001b[0mname\u001b[0m\u001b[0;34m]\u001b[0m\u001b[0;34m\u001b[0m\u001b[0;34m\u001b[0m\u001b[0m\n\u001b[0;32m-> 3614\u001b[0;31m             \u001b[0;32mreturn\u001b[0m \u001b[0mobject\u001b[0m\u001b[0;34m.\u001b[0m\u001b[0m__getattribute__\u001b[0m\u001b[0;34m(\u001b[0m\u001b[0mself\u001b[0m\u001b[0;34m,\u001b[0m \u001b[0mname\u001b[0m\u001b[0;34m)\u001b[0m\u001b[0;34m\u001b[0m\u001b[0;34m\u001b[0m\u001b[0m\n\u001b[0m\u001b[1;32m   3615\u001b[0m \u001b[0;34m\u001b[0m\u001b[0m\n\u001b[1;32m   3616\u001b[0m     \u001b[0;32mdef\u001b[0m \u001b[0m__setattr__\u001b[0m\u001b[0;34m(\u001b[0m\u001b[0mself\u001b[0m\u001b[0;34m,\u001b[0m \u001b[0mname\u001b[0m\u001b[0;34m,\u001b[0m \u001b[0mvalue\u001b[0m\u001b[0;34m)\u001b[0m\u001b[0;34m:\u001b[0m\u001b[0;34m\u001b[0m\u001b[0;34m\u001b[0m\u001b[0m\n",
      "\u001b[0;31mAttributeError\u001b[0m: 'DataFrame' object has no attribute 'Index'"
     ]
    }
   ],
   "source": [
    "\n",
    "dataFramesStocks = [pd.DataFrame(e[\"historical\"]) for e in stocks_data]\n",
    "dfStocksConsolidated = reduce(lambda x, y: round(pd.merge(x,y, on=\"date\", how=\"outer\"), 1), dataFramesStocks)\n",
    "dfStocksConsolidated.set_index(\"date\", inplace=True)\n",
    "dfStocksConsolidated.sort_index(ascending=False, inplace=True)\n",
    "dfStocksConsolidated.columns = list(df[\"companyName\"])\n",
    "#df.to_csv(\"companies_stock_price.csv\")\n",
    "dfStocksConsolidated.Index\n"
   ]
  },
  {
   "cell_type": "code",
   "execution_count": null,
   "metadata": {},
   "outputs": [],
   "source": [
    "import seaborn as sns\n",
    "sns.set(style=\"ticks\")\n",
    "\n",
    "dots = sns.load_dataset(\"dots\")\n",
    "\n",
    "# Define a palette to ensure that colors will be\n",
    "# shared across the facets\n",
    "palette = dict(zip(dots.coherence.unique(),\n",
    "                   sns.color_palette(\"rocket_r\", 6)))\n",
    "\n",
    "# Plot the lines on two facets\n",
    "sns.relplot(x=\"time\", y=\"firing_rate\",\n",
    "            hue=\"coherence\", size=\"choice\", col=\"align\",\n",
    "            size_order=[\"T1\", \"T2\"], palette=palette,\n",
    "            height=5, aspect=.75, facet_kws=dict(sharex=False),\n",
    "            kind=\"line\", legend=\"full\", data=dots)\n"
   ]
  },
  {
   "cell_type": "code",
   "execution_count": null,
   "metadata": {},
   "outputs": [],
   "source": []
  }
 ],
 "metadata": {
  "kernelspec": {
   "display_name": "Python 3",
   "language": "python",
   "name": "python3"
  },
  "language_info": {
   "codemirror_mode": {
    "name": "ipython",
    "version": 3
   },
   "file_extension": ".py",
   "mimetype": "text/x-python",
   "name": "python",
   "nbconvert_exporter": "python",
   "pygments_lexer": "ipython3",
   "version": "3.6.8"
  }
 },
 "nbformat": 4,
 "nbformat_minor": 2
}
