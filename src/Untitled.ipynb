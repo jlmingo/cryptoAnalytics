{
 "cells": [
  {
   "cell_type": "code",
   "execution_count": 31,
   "metadata": {
    "scrolled": true
   },
   "outputs": [
    {
     "data": {
      "text/plain": [
       "''"
      ]
     },
     "execution_count": 31,
     "metadata": {},
     "output_type": "execute_result"
    }
   ],
   "source": [
    "import pandas as pd\n",
    "from functions import chooseGenre\n",
    "from functions import showMovie\n",
    "from fpdf import FPDF\n",
    "def createPDF(moviereport):\n",
    "    pdf = FPDF()\n",
    "    pdf.add_page()\n",
    "    pdf.set_font('Arial', 'B', 20)\n",
    "    pdf.multi_cell(0, 10, 'Here Is Your Movie Recommendation', align='C')\n",
    "    pdf.ln(10)\n",
    "    pdf.image('./images/tomate.png', 33)\n",
    "    pdf.ln(10)\n",
    "    pdf.set_font('helvetica', 'B', 10)\n",
    "    pdf.cell(45, 7, 'Title', align='C', border = 1)\n",
    "    pdf.cell(45, 7, 'Original Title', align='C', border = 1)\n",
    "    pdf.cell(20, 7, 'Release', align='C', border = 1)\n",
    "    pdf.cell(20, 7, 'Runtime', align='C', border = 1)\n",
    "    pdf.cell(30, 7, 'Rate Average', align='C', border = 1)\n",
    "    pdf.cell(20, 7, 'Language', align='C', border = 1)\n",
    "    pdf.ln(7)\n",
    "    pdf.set_font('times', '', 10)\n",
    "    title = moviereport['title'].iloc[0]\n",
    "    original_title = moviereport['original_title'].iloc[0]\n",
    "    releasedate = moviereport['release_date'].iloc[0]\n",
    "    runtime = moviereport['runtime'].iloc[0]\n",
    "    voteaverage = moviereport['vote_average'].iloc[0]\n",
    "    overview = moviereport['overview'].iloc[0]\n",
    "    originallanguage = moviereport['original_language'].iloc[0]\n",
    "    pdf.cell(45, 7, '%s' % (title), align='C', border = 1)\n",
    "    pdf.cell(45, 7, '%s' % (original_title), align='C', border = 1)\n",
    "    pdf.cell(20, 7, '%s' % (releasedate), align='C', border = 1)\n",
    "    pdf.cell(20, 7, '%s' % (runtime), align='C', border = 1)\n",
    "    pdf.cell(30, 7, '%s' % (voteaverage), align='C', border = 1)\n",
    "    pdf.cell(20, 7, '%s' % (originallanguage), align='C', border = 1)\n",
    "    pdf.ln(10)\n",
    "    pdf.set_font('helvetica', 'B', 10)\n",
    "    pdf.cell(180, 7, 'Overview', align='C', border = 1)\n",
    "    pdf.ln(7)\n",
    "    pdf.set_font('times', '', 10)\n",
    "    pdf.multi_cell(180, 7, '%s' % (overview), align='C', border = 1)\n",
    "    pdf.output('./output/recommendation.pdf', 'F')\n",
    "    return ['./output/recommendation.pdf', 'recommendation.pdf' ]\n",
    "Contraer\n",
    "\n",
    "\n",
    "\n",
    "\n"
   ]
  },
  {
   "cell_type": "code",
   "execution_count": null,
   "metadata": {},
   "outputs": [],
   "source": []
  },
  {
   "cell_type": "code",
   "execution_count": null,
   "metadata": {},
   "outputs": [],
   "source": []
  }
 ],
 "metadata": {
  "kernelspec": {
   "display_name": "Python 3",
   "language": "python",
   "name": "python3"
  },
  "language_info": {
   "codemirror_mode": {
    "name": "ipython",
    "version": 3
   },
   "file_extension": ".py",
   "mimetype": "text/x-python",
   "name": "python",
   "nbconvert_exporter": "python",
   "pygments_lexer": "ipython3",
   "version": "3.6.8"
  }
 },
 "nbformat": 4,
 "nbformat_minor": 2
}
